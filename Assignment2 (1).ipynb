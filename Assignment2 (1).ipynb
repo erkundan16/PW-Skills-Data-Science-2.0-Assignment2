{
 "cells": [
  {
   "cell_type": "raw",
   "id": "812b3766-9214-4fa3-86b0-ba0cf1496adf",
   "metadata": {},
   "source": [
    "Q6. What is a complex number in mathematics, and how is it represented in Python?"
   ]
  },
  {
   "cell_type": "raw",
   "id": "36a1b767-b408-4f16-be93-d8e121dc5bd8",
   "metadata": {},
   "source": [
    "You can add comments to your code to provide explanations, notes, documentation\n",
    "\n",
    "Two type of comment\n",
    "1. Single-line comment\n",
    "EX:\n",
    "     # This comment is at the end of a line of code\n",
    "2.Multi-line comments \n",
    "EX:\n",
    "\n",
    "    \"\"\"\n",
    "    This is a docstring for the my_function.\n",
    "    It explains what the function does and its parameters.\n",
    "    \"\"\"\n",
    "   \n"
   ]
  },
  {
   "cell_type": "raw",
   "id": "6ffcbb9c-d836-4fd5-99c3-9bbba71a2ac6",
   "metadata": {},
   "source": [
    "Q2. What are variables in Python? How do you declare and assign values to variables?"
   ]
  },
  {
   "cell_type": "raw",
   "id": "af2afcb6-eb5a-4841-8a16-538425a13491",
   "metadata": {},
   "source": [
    "variables are used to store data values that can be referenced and manipulated within a program. Variables are like containers or labels that hold different types of data, such as numbers, strings, lists, or more complex objects.\n",
    "\n",
    "Variable Declaration:\n",
    "\n",
    "                     In Python, you don't need to explicitly declare the data type of a variable. The data type is determined automatically based on the value you assign to it.\n",
    "                     You declare a variable by simply choosing a name and using the assignment operator = to assign a value to it.             "
   ]
  },
  {
   "cell_type": "raw",
   "id": "1936ab1f-1872-4c7f-b57e-5ceb07526f52",
   "metadata": {},
   "source": [
    "EX:"
   ]
  },
  {
   "cell_type": "code",
   "execution_count": null,
   "id": "15fef7f0-436a-4d24-a0ba-37d308b454fd",
   "metadata": {},
   "outputs": [],
   "source": [
    "# Variable assignment\n",
    "my_variable = 42  # Assign an integer value\n",
    "my_string = \"Hello, Python!\"  # Assign a string value\n",
    "my_list = [1, 2, 3]  # Assign a list value\n",
    "pi_value = 3.14159  # Assign a floating-point value\n",
    "\n",
    "# Variables can be updated with new values\n",
    "my_variable = 100  # Reassign the variable with a new value\n",
    "\n",
    "# Multiple assignments in a single line\n",
    "x, y, z = 1, 2, 3  # Assign values 1, 2, and 3 to variables x, y, and z\n",
    "\n",
    "# Variable naming conventions\n",
    "snake_case_variable = \"Naming convention for variables in Python\"\n"
   ]
  },
  {
   "cell_type": "raw",
   "id": "f10b4e64-dcb1-4407-bd53-ddf085dbe393",
   "metadata": {},
   "source": [
    "Q3. How do you convert one data type to another in Python?"
   ]
  },
  {
   "cell_type": "raw",
   "id": "abe2cc0f-44b2-41a9-b2b3-fad2722d9484",
   "metadata": {},
   "source": [
    "by using this function we can change one data type to another \n",
    "    \n",
    "int(): \n",
    "float(): \n",
    "str():  \n",
    "list():            \n",
    "tuple():                              \n",
    "bool():        "
   ]
  },
  {
   "cell_type": "raw",
   "id": "57e168a9-d251-4042-9518-918f704b7943",
   "metadata": {},
   "source": [
    "EX:"
   ]
  },
  {
   "cell_type": "code",
   "execution_count": null,
   "id": "9f66a389-10c2-490b-b1ee-1400a79ae343",
   "metadata": {},
   "outputs": [],
   "source": [
    "num_str = \"42\"\n",
    "num_int = int(num_str)  # Explicitly convert a string to an integer\n"
   ]
  },
  {
   "cell_type": "raw",
   "id": "d6d885e8-f4e8-48fc-b177-412aa7a18261",
   "metadata": {},
   "source": [
    "Q4. How do you write and execute a Python script from the command line?"
   ]
  },
  {
   "cell_type": "raw",
   "id": "79b7e903-bf8a-4014-847f-ba1f6ef2677c",
   "metadata": {},
   "source": [
    "write and execute a Python script from the command line, follow these steps:\n",
    "\n",
    "Write Your Python Script:\n",
    "Open a text editor of your choice and write your Python code in a new file. Save the file with a .py extension, which indicates that it's a Python script.\n",
    "\n",
    "Open the Command Line Interface:\n",
    "                     Open your operating system's command prompt or terminal.\n",
    "\n",
    "Navigate to the Script's Directory: \n",
    "                      Use the cd (change directory) command to navigate to the directory where your Python script is located.\n",
    "\n",
    " Execute the Python Script:\n",
    "                          To run your Python script, use the python command\n",
    "                          \n",
    "                          command for run - python NameOfFile.py\n"
   ]
  },
  {
   "cell_type": "raw",
   "id": "fd1bbb7d-9410-4c90-a453-3a55bdf66a84",
   "metadata": {},
   "source": [
    "Q5. Given a list my_list = [1, 2, 3, 4, 5], write the code to slice the list and obtain the sub-list [2, 3]."
   ]
  },
  {
   "cell_type": "code",
   "execution_count": null,
   "id": "2fe9cfc1-aab2-48d4-994a-f4fd40314065",
   "metadata": {},
   "outputs": [],
   "source": [
    "my_list = [1, 2, 3, 4, 5]\n",
    "\n",
    "# Slice the list to obtain [2, 3]\n",
    "sub_list = my_list[1:3]\n",
    "\n",
    "print(sub_list)\n"
   ]
  },
  {
   "cell_type": "raw",
   "id": "fe734a6e-b4e0-4599-9f4b-24768adc2494",
   "metadata": {},
   "source": [
    "Q6. What is a complex number in mathematics, and how is it represented in Python?"
   ]
  },
  {
   "cell_type": "raw",
   "id": "2871bed1-c518-4e44-aed9-158c5e4e5c34",
   "metadata": {},
   "source": [
    "complex number is combination of real number and imaginary number.\n",
    "\n",
    "In mathematics,\n",
    "EX: a + bi\n",
    "   where a and b are real numbers, and i represents the imaginary unit.\n",
    "In Python,\n",
    "EX: a + bj\n",
    "   where a and b are real numbers, and j represents the imaginary unit."
   ]
  },
  {
   "cell_type": "raw",
   "id": "87e96105-07e7-4c66-b287-d99becbfa5b9",
   "metadata": {},
   "source": [
    "Q7. What is the correct way to declare a variable named age and assign the value 25 to it?"
   ]
  },
  {
   "cell_type": "code",
   "execution_count": null,
   "id": "c817c7e4-83fa-4b8b-9e6a-452354c6e3ff",
   "metadata": {},
   "outputs": [],
   "source": [
    "age = 25"
   ]
  },
  {
   "cell_type": "raw",
   "id": "22c1a2d4-0cf1-46b0-9818-00b5d5b1efd4",
   "metadata": {},
   "source": [
    "Q8. Declare a variable named price and assign the value 9.99 to it. What data type does this variable belong to?"
   ]
  },
  {
   "cell_type": "code",
   "execution_count": 1,
   "id": "6228f52a-204f-4ea6-8b7d-7a4348f1b4ff",
   "metadata": {},
   "outputs": [
    {
     "data": {
      "text/plain": [
       "float"
      ]
     },
     "execution_count": 1,
     "metadata": {},
     "output_type": "execute_result"
    }
   ],
   "source": [
    "price = 9.99\n",
    "type(price)"
   ]
  },
  {
   "cell_type": "raw",
   "id": "ca16f79b-1545-44d9-a704-b90f596bc9ff",
   "metadata": {},
   "source": [
    "Q9. Create a variable named name and assign your full name to it as a string. How would you print the value of this variable?"
   ]
  },
  {
   "cell_type": "code",
   "execution_count": 8,
   "id": "55534581-548d-42af-911e-5c4d63620214",
   "metadata": {},
   "outputs": [
    {
     "name": "stdout",
     "output_type": "stream",
     "text": [
      "Kundan Kumar Yadav\n"
     ]
    }
   ],
   "source": [
    "name = \"Kundan Kumar Yadav\"\n",
    "print(name)"
   ]
  },
  {
   "cell_type": "raw",
   "id": "244ce427-ab85-4212-9421-797c4eb3362c",
   "metadata": {},
   "source": [
    "Q10. Given the string \"Hello, World!\", extract the substring \"World\"."
   ]
  },
  {
   "cell_type": "code",
   "execution_count": 9,
   "id": "11e8b0ea-5cfa-4a77-9530-4701ffb8be18",
   "metadata": {},
   "outputs": [
    {
     "name": "stdout",
     "output_type": "stream",
     "text": [
      "World\n"
     ]
    }
   ],
   "source": [
    "original_string = \"Hello, World!\"\n",
    "substring = original_string[7:12]\n",
    "print(substring)"
   ]
  },
  {
   "cell_type": "raw",
   "id": "6c793899-001f-47ef-9658-0b3c221c391b",
   "metadata": {},
   "source": [
    "Q11. Create a variable named \"is_student\" and assign it a boolean value indicating whether you are currently a student or not."
   ]
  },
  {
   "cell_type": "code",
   "execution_count": 12,
   "id": "b3473828-80b6-40e6-9ce4-1187b2b8cb89",
   "metadata": {},
   "outputs": [
    {
     "name": "stdout",
     "output_type": "stream",
     "text": [
      "Are you currently a student? (True/False):  True\n"
     ]
    },
    {
     "name": "stdout",
     "output_type": "stream",
     "text": [
      "is_student: True\n"
     ]
    }
   ],
   "source": [
    "is_student_str = input(\"Are you currently a student? (True/False): \")\n",
    "\n",
    "is_student = is_student_str.lower() == \"true\"\n",
    "\n",
    "print(\"is_student:\", is_student)"
   ]
  },
  {
   "cell_type": "code",
   "execution_count": null,
   "id": "9ec94c3d-b2a5-4fda-87fd-ce3924179453",
   "metadata": {},
   "outputs": [],
   "source": []
  }
 ],
 "metadata": {
  "kernelspec": {
   "display_name": "Python 3 (ipykernel)",
   "language": "python",
   "name": "python3"
  },
  "language_info": {
   "codemirror_mode": {
    "name": "ipython",
    "version": 3
   },
   "file_extension": ".py",
   "mimetype": "text/x-python",
   "name": "python",
   "nbconvert_exporter": "python",
   "pygments_lexer": "ipython3",
   "version": "3.10.8"
  }
 },
 "nbformat": 4,
 "nbformat_minor": 5
}
